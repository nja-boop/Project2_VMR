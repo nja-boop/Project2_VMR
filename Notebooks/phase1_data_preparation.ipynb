{
 "cells": [
  {
   "cell_type": "markdown",
   "metadata": {},
   "source": [
    "raw data"
   ]
  },
  {
   "cell_type": "code",
   "execution_count": 6,
   "metadata": {},
   "outputs": [
    {
     "name": "stdout",
     "output_type": "stream",
     "text": [
      "            timestamp symbol     open     high      low    close  volume\n",
      "0 2025-08-12 00:00:00    MES  6398.75  6400.50  6397.00  6399.25    1421\n",
      "1 2025-08-12 00:01:00    MES  6399.00  6400.00  6398.50  6398.75     274\n",
      "2 2025-08-12 00:02:00    MES  6399.00  6400.50  6399.00  6400.00     343\n",
      "3 2025-08-12 00:03:00    MES  6399.75  6399.75  6398.75  6399.25     211\n",
      "4 2025-08-12 00:04:00    MES  6399.50  6399.75  6398.75  6399.00     132\n",
      "               timestamp symbol     open     high      low    close  volume\n",
      "1375 2025-08-12 23:55:00    MES  6470.50  6470.75  6469.25  6469.25     230\n",
      "1376 2025-08-12 23:56:00    MES  6469.25  6470.50  6469.25  6469.75     294\n",
      "1377 2025-08-12 23:57:00    MES  6469.50  6470.50  6469.50  6470.00     108\n",
      "1378 2025-08-12 23:58:00    MES  6470.25  6471.75  6470.25  6471.75     245\n",
      "1379 2025-08-12 23:59:00    MES  6471.50  6471.75  6471.00  6471.25     183\n"
     ]
    }
   ],
   "source": [
    "import pandas as pd\n",
    "\n",
    "df = pd.read_parquet(\"../data/raw/m1/mes_m1_2025-08-12.parquet\")\n",
    "print(df.head())\n",
    "print(df.tail())\n"
   ]
  },
  {
   "cell_type": "markdown",
   "metadata": {},
   "source": [
    "combined data"
   ]
  },
  {
   "cell_type": "code",
   "execution_count": 7,
   "metadata": {},
   "outputs": [
    {
     "name": "stdout",
     "output_type": "stream",
     "text": [
      "            timestamp symbol     open     high      low    close  volume\n",
      "0 2023-01-02 23:00:00    MES  3885.75  3900.00  3885.00  3888.50    2660\n",
      "1 2023-01-02 23:01:00    MES  3888.75  3890.25  3888.00  3888.75     930\n",
      "2 2023-01-02 23:02:00    MES  3888.75  3889.75  3888.00  3888.50     351\n",
      "3 2023-01-02 23:03:00    MES  3888.50  3888.50  3885.50  3886.50     674\n",
      "4 2023-01-02 23:04:00    MES  3886.25  3886.25  3883.25  3883.75     925\n",
      "                 timestamp symbol     open     high      low    close  volume\n",
      "922728 2025-08-15 20:55:00    MES  6466.50  6467.00  6466.25  6467.00     159\n",
      "922729 2025-08-15 20:56:00    MES  6467.25  6467.50  6466.50  6466.75     112\n",
      "922730 2025-08-15 20:57:00    MES  6466.50  6466.75  6466.00  6466.25     107\n",
      "922731 2025-08-15 20:58:00    MES  6466.50  6466.75  6466.00  6466.25     192\n",
      "922732 2025-08-15 20:59:00    MES  6466.25  6467.50  6466.25  6467.25     347\n"
     ]
    }
   ],
   "source": [
    "import pandas as pd\n",
    "\n",
    "df = pd.read_parquet(\"../data/processed/mes_all.parquet\")\n",
    "print(df.head())\n",
    "print(df.tail())\n"
   ]
  },
  {
   "cell_type": "markdown",
   "metadata": {},
   "source": [
    "prepared data"
   ]
  },
  {
   "cell_type": "code",
   "execution_count": 9,
   "metadata": {},
   "outputs": [
    {
     "name": "stdout",
     "output_type": "stream",
     "text": [
      "                  timestamp symbol     open     high      low    close  \\\n",
      "0 2023-01-02 18:00:00-05:00    MES  3885.75  3900.00  3885.00  3888.50   \n",
      "1 2023-01-02 18:01:00-05:00    MES  3888.75  3890.25  3888.00  3888.75   \n",
      "2 2023-01-02 18:02:00-05:00    MES  3888.75  3889.75  3888.00  3888.50   \n",
      "3 2023-01-02 18:03:00-05:00    MES  3888.50  3888.50  3885.50  3886.50   \n",
      "4 2023-01-02 18:04:00-05:00    MES  3886.25  3886.25  3883.25  3883.75   \n",
      "\n",
      "   volume session        date         vwap    ret_1m  vol_15m  \n",
      "0    2660     ETH  2023-01-02  3888.500000       NaN      NaN  \n",
      "1     930     ETH  2023-01-02  3888.564763  0.000064      NaN  \n",
      "2     351     ETH  2023-01-02  3888.558995 -0.000064      NaN  \n",
      "3     674     ETH  2023-01-02  3888.258288 -0.000514      NaN  \n",
      "4     925     ETH  2023-01-02  3887.505551 -0.000708      NaN  \n",
      "                       timestamp symbol     open     high      low    close  \\\n",
      "922728 2025-08-15 16:55:00-04:00    MES  6466.50  6467.00  6466.25  6467.00   \n",
      "922729 2025-08-15 16:56:00-04:00    MES  6467.25  6467.50  6466.50  6466.75   \n",
      "922730 2025-08-15 16:57:00-04:00    MES  6466.50  6466.75  6466.00  6466.25   \n",
      "922731 2025-08-15 16:58:00-04:00    MES  6466.50  6466.75  6466.00  6466.25   \n",
      "922732 2025-08-15 16:59:00-04:00    MES  6466.25  6467.50  6466.25  6467.25   \n",
      "\n",
      "        volume session        date         vwap    ret_1m   vol_15m  \n",
      "922728     159     ETH  2025-08-15  6492.831258  0.000077  0.000050  \n",
      "922729     112     ETH  2025-08-15  6492.808861 -0.000039  0.000050  \n",
      "922730     107     ETH  2025-08-15  6492.787091 -0.000077  0.000054  \n",
      "922731     192     ETH  2025-08-15  6492.748114  0.000000  0.000050  \n",
      "922732     347     ETH  2025-08-15  6492.680610  0.000155  0.000062  \n"
     ]
    }
   ],
   "source": [
    "import pandas as pd\n",
    "\n",
    "df = pd.read_parquet(\"../data/processed/mes_all_prepared.parquet\")\n",
    "print(df.head())\n",
    "print(df.tail())\n"
   ]
  }
 ],
 "metadata": {
  "kernelspec": {
   "display_name": "base",
   "language": "python",
   "name": "python3"
  },
  "language_info": {
   "codemirror_mode": {
    "name": "ipython",
    "version": 3
   },
   "file_extension": ".py",
   "mimetype": "text/x-python",
   "name": "python",
   "nbconvert_exporter": "python",
   "pygments_lexer": "ipython3",
   "version": "3.11.5"
  }
 },
 "nbformat": 4,
 "nbformat_minor": 2
}
